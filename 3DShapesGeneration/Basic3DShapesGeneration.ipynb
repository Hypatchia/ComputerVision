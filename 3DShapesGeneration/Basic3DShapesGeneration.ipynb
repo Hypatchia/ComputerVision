{
  "nbformat": 4,
  "nbformat_minor": 0,
  "metadata": {
    "colab": {
      "provenance": []
    },
    "kernelspec": {
      "name": "python3",
      "display_name": "Python 3"
    },
    "language_info": {
      "name": "python"
    }
  },
  "cells": [
    {
      "cell_type": "markdown",
      "source": [
        "## Primitive 3D Shapes Generation using Python & PyTorch only ."
      ],
      "metadata": {
        "id": "hnI_VVNMe3DQ"
      }
    },
    {
      "cell_type": "code",
      "execution_count": 1,
      "metadata": {
        "id": "_3MHwXLmegdW"
      },
      "outputs": [],
      "source": [
        "# Necessary Imports\n",
        "import torch\n",
        "import matplotlib.pyplot as plt\n",
        "import numpy as np\n"
      ]
    },
    {
      "cell_type": "code",
      "source": [
        "# Choose size of image and number of channels\n",
        "image_size = 128\n",
        "num_channels = 3"
      ],
      "metadata": {
        "id": "OqrVP0o-elV9"
      },
      "execution_count": 2,
      "outputs": []
    },
    {
      "cell_type": "code",
      "source": [
        "# Define function to create image tensors\n",
        "def create_image_tensor():\n",
        "    return torch.zeros((num_channels, image_size, image_size), dtype=torch.float32)\n"
      ],
      "metadata": {
        "id": "8SFqPdyGeqfD"
      },
      "execution_count": 3,
      "outputs": []
    },
    {
      "cell_type": "code",
      "source": [
        "# Define Primitive Shapes functions\n",
        "# rectangle \n",
        "def create_rectangle(image_tensor, x, y, width, height, value):\n",
        "    image_tensor[:, y:y+height, x:x+width] = value\n",
        "    return image_tensor\n",
        "\n",
        "# circle\n",
        "def create_circle(image_tensor, x, y, radius, value):\n",
        "    for i in range(image_size):\n",
        "        for j in range(image_size):\n",
        "            if ((i-y)**2 + (j-x)**2)**0.5 <= radius:\n",
        "                image_tensor[:, i, j] = value\n",
        "    return image_tensor\n"
      ],
      "metadata": {
        "id": "qIPKs73QerAy"
      },
      "execution_count": 4,
      "outputs": []
    },
    {
      "cell_type": "code",
      "source": [
        "# Shape Creation\n",
        "image_tensor = create_image_tensor()\n",
        "\n",
        "# Create a rectangle\n",
        "image_tensor = create_rectangle(image_tensor, 20, 20, 60, 80, 1)\n",
        "\n",
        "# Create a circle\n",
        "image_tensor = create_circle(image_tensor, 80, 80, 30, 1)\n"
      ],
      "metadata": {
        "id": "BhTNm3-tev6V"
      },
      "execution_count": 5,
      "outputs": []
    },
    {
      "cell_type": "code",
      "source": [
        "# View shapes\n",
        "plt.imshow(np.transpose(image_tensor.numpy(), (1, 2, 0)))\n",
        "plt.show()\n"
      ],
      "metadata": {
        "colab": {
          "base_uri": "https://localhost:8080/",
          "height": 434
        },
        "id": "T8foUQKoex6r",
        "outputId": "009c374b-41f7-4129-934d-10aae184ea0f"
      },
      "execution_count": 6,
      "outputs": [
        {
          "output_type": "display_data",
          "data": {
            "text/plain": [
              "<Figure size 640x480 with 1 Axes>"
            ],
            "image/png": "[encoded data removed]"
          },
          "metadata": {}
        }
      ]
    },
    {
      "cell_type": "code",
      "source": [],
      "metadata": {
        "id": "sJUiUHeyY2Mo"
      },
      "execution_count": 6,
      "outputs": []
    }
  ]
}